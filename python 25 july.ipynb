{
 "cells": [
  {
   "cell_type": "code",
   "execution_count": 1,
   "id": "32f66e10",
   "metadata": {},
   "outputs": [],
   "source": [
    "\n",
    "\n",
    "\n",
    "# tuple data structures"
   ]
  },
  {
   "cell_type": "code",
   "execution_count": null,
   "id": "6f319f1f",
   "metadata": {},
   "outputs": [],
   "source": []
  },
  {
   "cell_type": "code",
   "execution_count": 2,
   "id": "74fa9441",
   "metadata": {},
   "outputs": [
    {
     "name": "stdout",
     "output_type": "stream",
     "text": [
      "<class 'tuple'>\n"
     ]
    }
   ],
   "source": [
    "t=()\n",
    "print(type(t))"
   ]
  },
  {
   "cell_type": "code",
   "execution_count": 3,
   "id": "121a9ddc",
   "metadata": {},
   "outputs": [
    {
     "name": "stdout",
     "output_type": "stream",
     "text": [
      "(10, 20, 30, 40, 50)\n"
     ]
    }
   ],
   "source": [
    "l=[10,20,30,40,50]\n",
    "t=tuple(l)\n",
    "print(t)"
   ]
  },
  {
   "cell_type": "code",
   "execution_count": null,
   "id": "e8cd04a6",
   "metadata": {},
   "outputs": [],
   "source": []
  },
  {
   "cell_type": "code",
   "execution_count": 4,
   "id": "cf6e22ed",
   "metadata": {},
   "outputs": [
    {
     "name": "stdout",
     "output_type": "stream",
     "text": [
      "()\n"
     ]
    }
   ],
   "source": [
    "t=tuple(range(1,20))\n",
    "print(t[3:9:-1])"
   ]
  },
  {
   "cell_type": "code",
   "execution_count": null,
   "id": "d92cadc6",
   "metadata": {},
   "outputs": [],
   "source": []
  },
  {
   "cell_type": "code",
   "execution_count": 6,
   "id": "8fe1dd33",
   "metadata": {},
   "outputs": [
    {
     "name": "stdout",
     "output_type": "stream",
     "text": [
      "(10, 20, 3, 4, 5, 6, 10, 20, 30, 40)\n"
     ]
    }
   ],
   "source": [
    "t1=(10,20,30,40)\n",
    "t2=(40,50,60,70)\n",
    "t2=t+t1\n",
    "print(t2)"
   ]
  },
  {
   "cell_type": "code",
   "execution_count": 8,
   "id": "b1a5b023",
   "metadata": {},
   "outputs": [
    {
     "name": "stdout",
     "output_type": "stream",
     "text": [
      "(10, 20, 3, 4, 5, 6, 10, 20, 3, 4, 5, 6)\n"
     ]
    }
   ],
   "source": [
    "t1=(10,20,30,40)\n",
    "t2=(40,50,60,70)\n",
    "t2=t*2\n",
    "print(t2)"
   ]
  },
  {
   "cell_type": "code",
   "execution_count": 9,
   "id": "4c5fe56b",
   "metadata": {},
   "outputs": [
    {
     "name": "stdout",
     "output_type": "stream",
     "text": [
      "2018243561728\n",
      "2018243563648\n"
     ]
    }
   ],
   "source": [
    "t=(10,20,30,40)\n",
    "t1=(10,20,30,40)\n",
    "t2=t+t1\n",
    "print(id(t))\n",
    "print(id(t1))"
   ]
  },
  {
   "cell_type": "code",
   "execution_count": null,
   "id": "c40f556a",
   "metadata": {},
   "outputs": [],
   "source": []
  },
  {
   "cell_type": "code",
   "execution_count": 11,
   "id": "56a72ed0",
   "metadata": {},
   "outputs": [],
   "source": [
    "# fuctions of tuple"
   ]
  },
  {
   "cell_type": "code",
   "execution_count": 12,
   "id": "63e904a5",
   "metadata": {},
   "outputs": [],
   "source": [
    "# len()"
   ]
  },
  {
   "cell_type": "code",
   "execution_count": 26,
   "id": "5d4dbf51",
   "metadata": {},
   "outputs": [
    {
     "name": "stdout",
     "output_type": "stream",
     "text": [
      "6\n"
     ]
    }
   ],
   "source": [
    "t=(10,20,30,40,450,50)\n",
    "print(len(t))"
   ]
  },
  {
   "cell_type": "code",
   "execution_count": 27,
   "id": "d9384b1d",
   "metadata": {},
   "outputs": [
    {
     "name": "stdout",
     "output_type": "stream",
     "text": [
      "7\n"
     ]
    }
   ],
   "source": [
    "a=(1,2,3,4,5,6,7)\n",
    "print(len(a))"
   ]
  },
  {
   "cell_type": "code",
   "execution_count": 29,
   "id": "87b78ad0",
   "metadata": {},
   "outputs": [
    {
     "name": "stdout",
     "output_type": "stream",
     "text": [
      "8\n"
     ]
    }
   ],
   "source": [
    "b=(9,7,5,3,1,4,5,4)\n",
    "print(len(b))"
   ]
  },
  {
   "cell_type": "code",
   "execution_count": 30,
   "id": "f3412040",
   "metadata": {},
   "outputs": [
    {
     "name": "stdout",
     "output_type": "stream",
     "text": [
      "5\n"
     ]
    }
   ],
   "source": [
    "c=(55,33,44,77,99)\n",
    "print(len(c))"
   ]
  },
  {
   "cell_type": "code",
   "execution_count": 32,
   "id": "078c7385",
   "metadata": {},
   "outputs": [
    {
     "name": "stdout",
     "output_type": "stream",
     "text": [
      "6\n"
     ]
    }
   ],
   "source": [
    "d=(90,60,70,30,20,10)\n",
    "print(len(d))"
   ]
  },
  {
   "cell_type": "code",
   "execution_count": null,
   "id": "45c37968",
   "metadata": {},
   "outputs": [],
   "source": []
  },
  {
   "cell_type": "code",
   "execution_count": null,
   "id": "929a9943",
   "metadata": {},
   "outputs": [],
   "source": [
    "# index"
   ]
  },
  {
   "cell_type": "code",
   "execution_count": 1,
   "id": "5cf6a978",
   "metadata": {},
   "outputs": [
    {
     "name": "stdout",
     "output_type": "stream",
     "text": [
      "7\n"
     ]
    }
   ],
   "source": [
    "t=(10,20,30,40,40,40,450,50)\n",
    "print(t.index(50))"
   ]
  },
  {
   "cell_type": "code",
   "execution_count": 10,
   "id": "b8346ee6",
   "metadata": {},
   "outputs": [
    {
     "name": "stdout",
     "output_type": "stream",
     "text": [
      "3\n"
     ]
    }
   ],
   "source": [
    "t=(9,18,27,36,45)\n",
    "print(t.index(36))"
   ]
  },
  {
   "cell_type": "code",
   "execution_count": 11,
   "id": "dfb3beb8",
   "metadata": {},
   "outputs": [
    {
     "name": "stdout",
     "output_type": "stream",
     "text": [
      "2\n"
     ]
    }
   ],
   "source": [
    "t=(8,16,24,32,40)\n",
    "print(t.index(24))"
   ]
  },
  {
   "cell_type": "code",
   "execution_count": 12,
   "id": "b1d0653c",
   "metadata": {},
   "outputs": [
    {
     "name": "stdout",
     "output_type": "stream",
     "text": [
      "4\n"
     ]
    }
   ],
   "source": [
    "t=(7,14,21,28,35,42)\n",
    "print(t.index(35))"
   ]
  },
  {
   "cell_type": "code",
   "execution_count": 13,
   "id": "7fb62ff8",
   "metadata": {},
   "outputs": [
    {
     "name": "stdout",
     "output_type": "stream",
     "text": [
      "4\n"
     ]
    }
   ],
   "source": [
    "t=(5,10,15,65,60)\n",
    "print(t.index(60))"
   ]
  },
  {
   "cell_type": "code",
   "execution_count": null,
   "id": "199e809e",
   "metadata": {},
   "outputs": [],
   "source": []
  },
  {
   "cell_type": "code",
   "execution_count": null,
   "id": "b858d85e",
   "metadata": {},
   "outputs": [],
   "source": [
    "# sort"
   ]
  },
  {
   "cell_type": "code",
   "execution_count": 14,
   "id": "7ba414f9",
   "metadata": {
    "scrolled": false
   },
   "outputs": [
    {
     "name": "stdout",
     "output_type": "stream",
     "text": [
      "None\n",
      "[1, 3, 4, 6, 234, 543]\n"
     ]
    }
   ],
   "source": [
    "l=[1,6,4,3,234,543]\n",
    "print(l.sort())\n",
    "print(l)"
   ]
  },
  {
   "cell_type": "code",
   "execution_count": 11,
   "id": "c08d5433",
   "metadata": {},
   "outputs": [
    {
     "name": "stdout",
     "output_type": "stream",
     "text": [
      "['ameem', 'prasad', 'sai']\n"
     ]
    }
   ],
   "source": [
    "a=[\"ameem\",\"sai\",\"prasad\"]\n",
    "(a.sort())\n",
    "\n",
    "print(a)\n"
   ]
  },
  {
   "cell_type": "code",
   "execution_count": 10,
   "id": "91cea2b8",
   "metadata": {},
   "outputs": [
    {
     "name": "stdout",
     "output_type": "stream",
     "text": [
      "[3, 5, 23, 70, 99]\n"
     ]
    }
   ],
   "source": [
    "b=[99,70,5,3,23]\n",
    "a=(sorted(b))\n",
    "print(a)"
   ]
  },
  {
   "cell_type": "code",
   "execution_count": 4,
   "id": "32f5beb7",
   "metadata": {},
   "outputs": [
    {
     "name": "stdout",
     "output_type": "stream",
     "text": [
      "None\n",
      "['cat', 'dog', 'horse']\n"
     ]
    }
   ],
   "source": [
    "a=[\"horse\",\"cat\",\"dog\"]\n",
    "print(a.sort())\n",
    "print(a)"
   ]
  },
  {
   "cell_type": "code",
   "execution_count": 5,
   "id": "588de620",
   "metadata": {},
   "outputs": [
    {
     "name": "stdout",
     "output_type": "stream",
     "text": [
      "None\n",
      "[3, 6, 9, 23, 55, 88]\n"
     ]
    }
   ],
   "source": [
    "b=[3,6,9,88,23,55]\n",
    "print(b.sort())\n",
    "print(b)"
   ]
  },
  {
   "cell_type": "code",
   "execution_count": 21,
   "id": "a26aeeb5",
   "metadata": {
    "scrolled": true
   },
   "outputs": [
    {
     "name": "stdout",
     "output_type": "stream",
     "text": [
      "(8, 7, 6, 6, 4, 4, 3, 2, 1)\n"
     ]
    }
   ],
   "source": [
    "t=(3,2,1,4,6,7,8,6,4)\n",
    "t1=tuple(sorted(t,reverse=True))\n",
    "print(t1)"
   ]
  },
  {
   "cell_type": "code",
   "execution_count": 22,
   "id": "868d32b9",
   "metadata": {},
   "outputs": [
    {
     "name": "stdout",
     "output_type": "stream",
     "text": [
      "[7876, 745, 677, 654, 450, 360, 65, 28, 0]\n"
     ]
    }
   ],
   "source": [
    "n=(0,28,677,745,654,7876,360,450,65)\n",
    "m=sorted(n,reverse=True)\n",
    "print(m)\n"
   ]
  },
  {
   "cell_type": "code",
   "execution_count": 23,
   "id": "5d392d15",
   "metadata": {},
   "outputs": [
    {
     "name": "stdout",
     "output_type": "stream",
     "text": [
      "[8, 7, 6, 6, 4, 4, 3, 2, 1]\n"
     ]
    }
   ],
   "source": [
    "t=(3,2,1,4,6,7,8,6,4)\n",
    "t1=list(sorted(t,reverse=True))\n",
    "print(t1)"
   ]
  },
  {
   "cell_type": "code",
   "execution_count": 25,
   "id": "bd803901",
   "metadata": {},
   "outputs": [
    {
     "name": "stdout",
     "output_type": "stream",
     "text": [
      "(7876, 745, 677, 654, 450, 360, 65, 28, 0)\n"
     ]
    }
   ],
   "source": [
    "n=(0,28,677,745,654,7876,360,450,65)\n",
    "m=(tuple(sorted(n,reverse=True)))\n",
    "print(m)\n"
   ]
  },
  {
   "cell_type": "code",
   "execution_count": null,
   "id": "09381335",
   "metadata": {},
   "outputs": [],
   "source": []
  },
  {
   "cell_type": "code",
   "execution_count": null,
   "id": "1fbee7b9",
   "metadata": {},
   "outputs": [],
   "source": [
    "# min,max"
   ]
  },
  {
   "cell_type": "code",
   "execution_count": 16,
   "id": "385efce7",
   "metadata": {},
   "outputs": [
    {
     "name": "stdout",
     "output_type": "stream",
     "text": [
      "10\n",
      "50\n"
     ]
    }
   ],
   "source": [
    "t=(10,20,30,40,50)\n",
    "print(min(t))\n",
    "print(max(t))"
   ]
  },
  {
   "cell_type": "code",
   "execution_count": 6,
   "id": "6f00f24f",
   "metadata": {},
   "outputs": [
    {
     "name": "stdout",
     "output_type": "stream",
     "text": [
      "44\n",
      "90\n"
     ]
    }
   ],
   "source": [
    "t=(90,70,57,44)\n",
    "print(min(t))\n",
    "print(max(t))"
   ]
  },
  {
   "cell_type": "code",
   "execution_count": 7,
   "id": "73d3586e",
   "metadata": {},
   "outputs": [
    {
     "name": "stdout",
     "output_type": "stream",
     "text": [
      "44\n",
      "99\n"
     ]
    }
   ],
   "source": [
    "t=(77,88,99,44)\n",
    "print(min(t))\n",
    "print(max(t))"
   ]
  },
  {
   "cell_type": "code",
   "execution_count": 8,
   "id": "4ecbc0d0",
   "metadata": {},
   "outputs": [
    {
     "name": "stdout",
     "output_type": "stream",
     "text": [
      "15\n",
      "97\n"
     ]
    }
   ],
   "source": [
    "t=(15,45,97,35)\n",
    "print(min(t))\n",
    "print(max(t))"
   ]
  },
  {
   "cell_type": "code",
   "execution_count": 9,
   "id": "d10e0e8e",
   "metadata": {},
   "outputs": [
    {
     "name": "stdout",
     "output_type": "stream",
     "text": [
      "5\n",
      "25\n"
     ]
    }
   ],
   "source": [
    "t=(5,10,15,20,25)\n",
    "print(min(t))\n",
    "print(max(t))"
   ]
  },
  {
   "cell_type": "code",
   "execution_count": null,
   "id": "d19d7361",
   "metadata": {},
   "outputs": [],
   "source": []
  },
  {
   "cell_type": "code",
   "execution_count": null,
   "id": "47535e55",
   "metadata": {},
   "outputs": [],
   "source": [
    "# sliceing"
   ]
  },
  {
   "cell_type": "code",
   "execution_count": 33,
   "id": "e6e1cbf5",
   "metadata": {},
   "outputs": [
    {
     "name": "stdout",
     "output_type": "stream",
     "text": [
      "(70, 40)\n"
     ]
    }
   ],
   "source": [
    "n=(60,20,70,40,55,344)\n",
    "print(n[2:4])"
   ]
  },
  {
   "cell_type": "code",
   "execution_count": 34,
   "id": "8a715e4d",
   "metadata": {},
   "outputs": [
    {
     "name": "stdout",
     "output_type": "stream",
     "text": [
      "()\n"
     ]
    }
   ],
   "source": [
    "n=(60,20,70,40,55,344)\n",
    "print(n[2:4:-1])"
   ]
  },
  {
   "cell_type": "code",
   "execution_count": 35,
   "id": "8ba76685",
   "metadata": {},
   "outputs": [
    {
     "name": "stdout",
     "output_type": "stream",
     "text": [
      "(70, 40, 55)\n"
     ]
    }
   ],
   "source": [
    "n=(60,20,70,40,55,344)\n",
    "print(n[2:5:1])"
   ]
  },
  {
   "cell_type": "code",
   "execution_count": 36,
   "id": "e78b2e27",
   "metadata": {},
   "outputs": [
    {
     "name": "stdout",
     "output_type": "stream",
     "text": [
      "()\n"
     ]
    }
   ],
   "source": [
    "n=(60,20,70,40,55,344)\n",
    "print(n[0:-1:-1])\n"
   ]
  },
  {
   "cell_type": "code",
   "execution_count": 37,
   "id": "8d330628",
   "metadata": {},
   "outputs": [
    {
     "name": "stdout",
     "output_type": "stream",
     "text": [
      "(20, 40)\n"
     ]
    }
   ],
   "source": [
    "n=(60,20,70,40,55,344)\n",
    "print(n[1:4:2])"
   ]
  },
  {
   "cell_type": "code",
   "execution_count": null,
   "id": "cae65413",
   "metadata": {},
   "outputs": [],
   "source": []
  }
 ],
 "metadata": {
  "kernelspec": {
   "display_name": "Python 3 (ipykernel)",
   "language": "python",
   "name": "python3"
  },
  "language_info": {
   "codemirror_mode": {
    "name": "ipython",
    "version": 3
   },
   "file_extension": ".py",
   "mimetype": "text/x-python",
   "name": "python",
   "nbconvert_exporter": "python",
   "pygments_lexer": "ipython3",
   "version": "3.10.9"
  }
 },
 "nbformat": 4,
 "nbformat_minor": 5
}
